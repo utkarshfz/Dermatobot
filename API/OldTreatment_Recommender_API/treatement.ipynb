{
  "nbformat": 4,
  "nbformat_minor": 0,
  "metadata": {
    "colab": {
      "name": "Untitled4.ipynb",
      "provenance": []
    },
    "kernelspec": {
      "name": "python3",
      "display_name": "Python 3"
    },
    "language_info": {
      "name": "python"
    }
  },
  "cells": [
    {
      "cell_type": "code",
      "metadata": {
        "id": "cUrgvIqNDwCp"
      },
      "source": [
        "!pip install flask-restful\n",
        "!pip install flask_cors\n",
        "!pip install -U flask-cors\n",
        "from flask_cors import CORS\n",
        "import flask\n",
        "from flask import Flask,jsonify\n",
        "import pandas as pd\n",
        "import ast\n",
        "import warnings, re,math, datetime, time\n",
        "start_time = time.time()\n",
        "from datetime import timedelta\n",
        "warnings.filterwarnings(\"ignore\")\n",
        "import math\n",
        "import pandas as pd\n",
        "import csv, io\n",
        "import numpy as np\n",
        "import scipy\n",
        "import matplotlib\n",
        "import matplotlib.pyplot as plt\n",
        "import nltk, string\n",
        "from nltk.corpus import stopwords\n",
        "from nltk.sentiment.vader import SentimentIntensityAnalyzer\n",
        "from sklearn.feature_extraction.text import TfidfVectorizer\n",
        "from sklearn import preprocessing\n",
        "from sklearn.feature_extraction.text import CountVectorizer\n",
        "from nltk.stem.snowball import SnowballStemmer\n",
        "from sklearn.cluster import KMeans\n",
        "from sklearn.metrics import adjusted_rand_score\n",
        "from geopy import geocoders\n",
        "gn = geocoders.GeoNames(username = \"idselection\")\n",
        "import shapely\n",
        "from shapely.geometry import Point, LineString, Polygon\n",
        "from flask import request\n",
        "import pandas as pd\n",
        "import tensorflow as tf\n",
        "import tensorflow_hub as hub\n",
        "import matplotlib.pyplot as plt\n",
        "import numpy as np\n",
        "import os\n",
        "import pandas as pd\n",
        "import scipy.spatial"
      ],
      "execution_count": null,
      "outputs": []
    },
    {
      "cell_type": "code",
      "metadata": {
        "id": "i6YgBPVcEc_Q"
      },
      "source": [
        "app = flask.Flask(__name__)\n",
        "CORS(app)\n",
        "@app.route(\"/predict\", methods=[\"POST\"])\n",
        "def predict():\n",
        "   text=flask.request.form[\"text\"]\n",
        "   df=pd.read_csv('/content/2.csv')\n",
        "   for i in range(len(df)):\n",
        "     if df.iloc[i,0]==text:\n",
        "       return df.iloc[i,1]"
      ],
      "execution_count": null,
      "outputs": []
    },
    {
      "cell_type": "code",
      "metadata": {
        "id": "FUgnVuxvGD_u"
      },
      "source": [
        "app.run(host='0.0.0.0',port=5002)"
      ],
      "execution_count": null,
      "outputs": []
    }
  ]
}